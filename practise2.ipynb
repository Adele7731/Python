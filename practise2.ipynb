{
  "nbformat": 4,
  "nbformat_minor": 0,
  "metadata": {
    "colab": {
      "provenance": []
    },
    "kernelspec": {
      "name": "python3",
      "display_name": "Python 3"
    },
    "language_info": {
      "name": "python"
    }
  },
  "cells": [
    {
      "cell_type": "code",
      "execution_count": 1,
      "metadata": {
        "id": "yf_zFegMhEQO"
      },
      "outputs": [],
      "source": [
        "att={1:'aditya',2:'chirag',3:'kunal',4:'suman'}"
      ]
    },
    {
      "cell_type": "code",
      "source": [
        "print(att)"
      ],
      "metadata": {
        "colab": {
          "base_uri": "https://localhost:8080/"
        },
        "id": "QOyz5Zy2mOio",
        "outputId": "56a8e4a8-db04-49e6-9568-e99e5a7b14d5"
      },
      "execution_count": 3,
      "outputs": [
        {
          "output_type": "stream",
          "name": "stdout",
          "text": [
            "{1: 'aditya', 2: 'chirag', 3: 'kunal', 4: 'suman'}\n"
          ]
        }
      ]
    },
    {
      "cell_type": "code",
      "source": [
        "info={'name':'bob','occupation':'builder','city':'newyork','salary':20000}"
      ],
      "metadata": {
        "id": "sE2o4mgPs0F-"
      },
      "execution_count": 22,
      "outputs": []
    },
    {
      "cell_type": "code",
      "source": [
        "print(info)\n"
      ],
      "metadata": {
        "colab": {
          "base_uri": "https://localhost:8080/"
        },
        "id": "_gwzNLmXuwOW",
        "outputId": "fd77202e-9ff9-4634-af8f-78964da6e4ba"
      },
      "execution_count": 23,
      "outputs": [
        {
          "output_type": "stream",
          "name": "stdout",
          "text": [
            "{'name': 'bob', 'occupation': 'builder', 'city': 'newyork', 'salary': 20000}\n"
          ]
        }
      ]
    },
    {
      "cell_type": "code",
      "source": [
        "info['age']=30"
      ],
      "metadata": {
        "id": "6q6wFod-u1oR"
      },
      "execution_count": 25,
      "outputs": []
    },
    {
      "cell_type": "code",
      "source": [
        "print(info)"
      ],
      "metadata": {
        "colab": {
          "base_uri": "https://localhost:8080/"
        },
        "id": "LIp87DuAvbSg",
        "outputId": "65923cb1-add1-4b01-cbaa-de37fed2cea4"
      },
      "execution_count": 26,
      "outputs": [
        {
          "output_type": "stream",
          "name": "stdout",
          "text": [
            "{'name': 'bob', 'occupation': 'builder', 'city': 'newyork', 'salary': 20000, 'age': 30}\n"
          ]
        }
      ]
    },
    {
      "cell_type": "code",
      "source": [],
      "metadata": {
        "id": "_pLi1ObmvncH"
      },
      "execution_count": null,
      "outputs": []
    },
    {
      "cell_type": "code",
      "source": [
        "info['salary']=40000"
      ],
      "metadata": {
        "id": "PXi8jNp1vfm-"
      },
      "execution_count": 27,
      "outputs": []
    },
    {
      "cell_type": "code",
      "source": [
        "print(info)"
      ],
      "metadata": {
        "colab": {
          "base_uri": "https://localhost:8080/"
        },
        "id": "Aayxkgs7vo5n",
        "outputId": "e3f90ec8-1819-424d-f283-25c644d8228a"
      },
      "execution_count": 28,
      "outputs": [
        {
          "output_type": "stream",
          "name": "stdout",
          "text": [
            "{'name': 'bob', 'occupation': 'builder', 'city': 'newyork', 'salary': 40000, 'age': 30}\n"
          ]
        }
      ]
    },
    {
      "cell_type": "code",
      "source": [
        "del info['occupation']"
      ],
      "metadata": {
        "id": "6j7pO8Tuv8RL"
      },
      "execution_count": 29,
      "outputs": []
    },
    {
      "cell_type": "code",
      "source": [
        "print(info)"
      ],
      "metadata": {
        "colab": {
          "base_uri": "https://localhost:8080/"
        },
        "id": "OUjcGm-JwJQq",
        "outputId": "ae8c2a3b-9afb-440c-ca03-97d697db5004"
      },
      "execution_count": 30,
      "outputs": [
        {
          "output_type": "stream",
          "name": "stdout",
          "text": [
            "{'name': 'bob', 'city': 'newyork', 'salary': 40000, 'age': 30}\n"
          ]
        }
      ]
    },
    {
      "cell_type": "code",
      "source": [
        "info['city']"
      ],
      "metadata": {
        "colab": {
          "base_uri": "https://localhost:8080/",
          "height": 35
        },
        "id": "SYEpUjFQwN2j",
        "outputId": "a782a924-5355-490f-dfd4-5bea0d746d21"
      },
      "execution_count": 31,
      "outputs": [
        {
          "output_type": "execute_result",
          "data": {
            "text/plain": [
              "'newyork'"
            ],
            "application/vnd.google.colaboratory.intrinsic+json": {
              "type": "string"
            }
          },
          "metadata": {},
          "execution_count": 31
        }
      ]
    },
    {
      "cell_type": "code",
      "source": [
        "l1=['india','china','russia',['mango','banana','apple','guava']]"
      ],
      "metadata": {
        "id": "Tnp7Dvau8TAd"
      },
      "execution_count": 34,
      "outputs": []
    },
    {
      "cell_type": "code",
      "source": [
        "a1=l1[0:3]"
      ],
      "metadata": {
        "id": "mJxVIygm8zj4"
      },
      "execution_count": 38,
      "outputs": []
    },
    {
      "cell_type": "code",
      "source": [
        "a2=l1[3][0:2]"
      ],
      "metadata": {
        "id": "tlpAUo6k9r2E"
      },
      "execution_count": 39,
      "outputs": []
    },
    {
      "cell_type": "code",
      "source": [
        "print(a1+a2)"
      ],
      "metadata": {
        "colab": {
          "base_uri": "https://localhost:8080/"
        },
        "id": "fHbqfRyk90Gk",
        "outputId": "4e01cacc-7ba0-402b-a539-c02eba87431c"
      },
      "execution_count": 41,
      "outputs": [
        {
          "output_type": "stream",
          "name": "stdout",
          "text": [
            "['india', 'china', 'russia', 'mango', 'banana']\n"
          ]
        }
      ]
    },
    {
      "cell_type": "code",
      "source": [
        "x=int(input(\"enter value of x\"))\n",
        "y=int(input(\"enter value of y\"))\n",
        "if x>y:\n",
        "  print(\"x is greater\")\n",
        "  "
      ],
      "metadata": {
        "id": "QTa_xQDRGWB-"
      },
      "execution_count": null,
      "outputs": []
    },
    {
      "cell_type": "code",
      "source": [
        "a=int(input(\"enter value for age\"))\n",
        "if a>=18:\n",
        "  print(\"eligible for voting\")\n",
        "else:\n",
        "  print(\"not eligible for voting\")"
      ],
      "metadata": {
        "colab": {
          "base_uri": "https://localhost:8080/"
        },
        "id": "jbxxTqOHHsUo",
        "outputId": "3ac30b39-8f52-4b6f-86e9-fce8d631d4af"
      },
      "execution_count": 52,
      "outputs": [
        {
          "output_type": "stream",
          "name": "stdout",
          "text": [
            "enter value for age18\n",
            "eligible for voting\n"
          ]
        }
      ]
    },
    {
      "cell_type": "code",
      "source": [
        "l=int(input(\"enter value of length\"))\n",
        "b=int(input(\"enter value of breath\"))\n",
        "if l==b:\n",
        " print(\"rectangle is a square\")\n",
        "else:\n",
        " print(\"rectangle is not a square\")\n"
      ],
      "metadata": {
        "colab": {
          "base_uri": "https://localhost:8080/"
        },
        "id": "Mppu_WXgKad3",
        "outputId": "e9e985a3-eae1-4091-b2a8-6dadcd1a767b"
      },
      "execution_count": 64,
      "outputs": [
        {
          "output_type": "stream",
          "name": "stdout",
          "text": [
            "enter value of length50\n",
            "enter value of breath50\n",
            "rectangle is a square\n"
          ]
        }
      ]
    }
  ]
}