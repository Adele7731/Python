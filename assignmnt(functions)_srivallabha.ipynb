{
  "nbformat": 4,
  "nbformat_minor": 0,
  "metadata": {
    "colab": {
      "provenance": []
    },
    "kernelspec": {
      "name": "python3",
      "display_name": "Python 3"
    },
    "language_info": {
      "name": "python"
    }
  },
  "cells": [
    {
      "cell_type": "markdown",
      "source": [
        ">define a function that accepts a number and returns whether the number is even or odd"
      ],
      "metadata": {
        "id": "u1uOmoLN15T1"
      }
    },
    {
      "cell_type": "code",
      "execution_count": 11,
      "metadata": {
        "id": "UjDHpZUZ2egm"
      },
      "outputs": [],
      "source": [
        "def num(i):\n",
        "  if i%2==0:\n",
        "   print(\"even number\")\n",
        "  else:\n",
        "    print(\"odd number\")"
      ]
    },
    {
      "cell_type": "code",
      "source": [
        "num(999)"
      ],
      "metadata": {
        "colab": {
          "base_uri": "https://localhost:8080/"
        },
        "id": "G0Ib-pj_3Gei",
        "outputId": "66bcc8aa-ff5a-4086-d175-7a2fc5a7edbc"
      },
      "execution_count": 13,
      "outputs": [
        {
          "output_type": "stream",
          "name": "stdout",
          "text": [
            "odd number\n"
          ]
        }
      ]
    },
    {
      "cell_type": "code",
      "source": [
        "num(22837476)"
      ],
      "metadata": {
        "colab": {
          "base_uri": "https://localhost:8080/"
        },
        "id": "J3D5IFkv3lP6",
        "outputId": "2c9947ea-fbd2-458d-d3c5-bf98e9badbe1"
      },
      "execution_count": 15,
      "outputs": [
        {
          "output_type": "stream",
          "name": "stdout",
          "text": [
            "even number\n"
          ]
        }
      ]
    },
    {
      "cell_type": "markdown",
      "source": [
        ">define a function to create and print alist where the values are square of numbers betwween 1 and 30(both included)"
      ],
      "metadata": {
        "id": "eV_81Nfv3qXw"
      }
    },
    {
      "cell_type": "code",
      "source": [
        "def square():\n",
        "  a=list()\n",
        "  for i in range(1,31):\n",
        "     a.append(i**2)\n",
        "  print(a)"
      ],
      "metadata": {
        "id": "XUxZNooN35Va"
      },
      "execution_count": 27,
      "outputs": []
    },
    {
      "cell_type": "code",
      "source": [
        "square()"
      ],
      "metadata": {
        "colab": {
          "base_uri": "https://localhost:8080/"
        },
        "id": "TmsZYefA46-m",
        "outputId": "d5231007-8f57-4c93-e0f7-faabfcbac92f"
      },
      "execution_count": 28,
      "outputs": [
        {
          "output_type": "stream",
          "name": "stdout",
          "text": [
            "[1, 4, 9, 16, 25, 36, 49, 64, 81, 100, 121, 144, 169, 196, 225, 256, 289, 324, 361, 400, 441, 484, 529, 576, 625, 676, 729, 784, 841, 900]\n"
          ]
        }
      ]
    },
    {
      "cell_type": "markdown",
      "source": [
        ">define a function shut_down,that takes one parameter.then if the shut_down function receives a value equal to \"yes\",it should print\"shutting down\".alternatively if value is equal to 'no',then the function should print \"sorry\""
      ],
      "metadata": {
        "id": "ImDvoX2N5Vqp"
      }
    },
    {
      "cell_type": "code",
      "source": [
        "def shut_down(p):\n",
        "  if p=='yes':\n",
        "    print(\"shutting down\")\n",
        "  elif p=='no':\n",
        "    print(\"shutting canceled\")\n",
        "  else: \n",
        "   print(\"sorry\")"
      ],
      "metadata": {
        "id": "XplsA0EO56z4"
      },
      "execution_count": 31,
      "outputs": []
    },
    {
      "cell_type": "code",
      "source": [
        "shut_down(\"no\")"
      ],
      "metadata": {
        "colab": {
          "base_uri": "https://localhost:8080/"
        },
        "id": "wb3jgNbi9uqb",
        "outputId": "bee720c2-0998-4317-fb52-a17c7ee3b31a"
      },
      "execution_count": 32,
      "outputs": [
        {
          "output_type": "stream",
          "name": "stdout",
          "text": [
            "shutting canceled\n"
          ]
        }
      ]
    },
    {
      "cell_type": "markdown",
      "source": [
        ">define a function called \"by_three\"that takes parameeter called number.if that number is divisible by 3,\"by_three\"should print the cube of number.otherwisw by_three should print false"
      ],
      "metadata": {
        "id": "FIR1H1uI91qg"
      }
    },
    {
      "cell_type": "code",
      "source": [
        "def by_three(n):\n",
        "  if n%3==0:\n",
        "    print(n*n*n)\n",
        "  else:\n",
        "    print(\"False\")"
      ],
      "metadata": {
        "id": "FoZtZbHmAfWH"
      },
      "execution_count": 39,
      "outputs": []
    },
    {
      "cell_type": "code",
      "source": [
        "by_three(155)"
      ],
      "metadata": {
        "colab": {
          "base_uri": "https://localhost:8080/"
        },
        "id": "nDA6XqgwBhcA",
        "outputId": "9454306d-818d-452a-d2f0-234965aa5c4e"
      },
      "execution_count": 40,
      "outputs": [
        {
          "output_type": "stream",
          "name": "stdout",
          "text": [
            "False\n"
          ]
        }
      ]
    },
    {
      "cell_type": "code",
      "source": [
        "by_three(15)"
      ],
      "metadata": {
        "colab": {
          "base_uri": "https://localhost:8080/"
        },
        "id": "Agk2iet8B22X",
        "outputId": "1980dd71-442a-4494-8292-46bae2d3bab0"
      },
      "execution_count": 45,
      "outputs": [
        {
          "output_type": "stream",
          "name": "stdout",
          "text": [
            "3375\n"
          ]
        }
      ]
    },
    {
      "cell_type": "markdown",
      "source": [
        ">define a function that takes a list and prints a new list with no duplicate elements given in the first list\n"
      ],
      "metadata": {
        "id": "C0PaPQL6CTlj"
      }
    },
    {
      "cell_type": "code",
      "source": [
        "def list(a):\n",
        "  b=[]\n",
        "  for i in a:\n",
        "    if i not in b:\n",
        "      b.append(i)\n",
        "  print(b)   "
      ],
      "metadata": {
        "id": "X7u0n6xxCulU"
      },
      "execution_count": 52,
      "outputs": []
    },
    {
      "cell_type": "code",
      "source": [
        "list([1,2,2,34,54,334,34,66,78,78,98,9,6])"
      ],
      "metadata": {
        "colab": {
          "base_uri": "https://localhost:8080/"
        },
        "id": "4Cha0sKmD3dG",
        "outputId": "9d48aab9-8824-40d2-d2bd-313b98442fb5"
      },
      "execution_count": 53,
      "outputs": [
        {
          "output_type": "stream",
          "name": "stdout",
          "text": [
            "[1, 2, 34, 54, 334, 66, 78, 98, 9, 6]\n"
          ]
        }
      ]
    }
  ]
}