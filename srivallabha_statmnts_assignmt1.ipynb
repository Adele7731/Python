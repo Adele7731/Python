{
  "nbformat": 4,
  "nbformat_minor": 0,
  "metadata": {
    "colab": {
      "provenance": []
    },
    "kernelspec": {
      "name": "python3",
      "display_name": "Python 3"
    },
    "language_info": {
      "name": "python"
    }
  },
  "cells": [
    {
      "cell_type": "markdown",
      "source": [
        "#Assignment on conditional statements\n",
        ">take 3 numbers x,y and z as input from user and check which number is greater"
      ],
      "metadata": {
        "id": "CQXSCpxq2DtR"
      }
    },
    {
      "cell_type": "code",
      "execution_count": 33,
      "metadata": {
        "colab": {
          "base_uri": "https://localhost:8080/"
        },
        "id": "_El-Qspm1dLv",
        "outputId": "c802f32e-dd4d-4daf-a8c9-af2babdc6510"
      },
      "outputs": [
        {
          "output_type": "stream",
          "name": "stdout",
          "text": [
            "enter the number39\n",
            "enter the number29\n",
            "enter the number49\n",
            "the greatest number is 49\n"
          ]
        }
      ],
      "source": [
        "x=int(input(\"enter the number\"))\n",
        "y=int(input(\"enter the number\"))\n",
        "z=int(input(\"enter the number\"))\n",
        "if (x>=y) and (x>=z):\n",
        "  print(\"x is greatest\")\n",
        "elif (y>=x) and (y>=z):\n",
        "  print(\"y is greatest\")\n",
        "else:\n",
        "  greatest=z\n",
        "print(\"the greatest number is\",greatest)\n"
      ]
    },
    {
      "cell_type": "markdown",
      "source": [
        ">take an alphabet as input from the user and check if the alphabet is a vowel,consonent or exception\n",
        "vowel-'a','e','i','o','u'\n",
        "exception-'h','y'\n",
        "consonant-rest of other alphabets"
      ],
      "metadata": {
        "id": "HKarqu5X81Z0"
      }
    },
    {
      "cell_type": "code",
      "source": [
        "al=input(\"enter the alphabet\")\n",
        "if al in('a','e','i','o','u'):\n",
        "  print(\"alphabet is a vowel\")\n",
        "elif al=='h' and 'y':\n",
        "  print(\"alphabet is exception\")\n",
        "else:\n",
        "  print(\"alphabet is a consonant\")"
      ],
      "metadata": {
        "colab": {
          "base_uri": "https://localhost:8080/"
        },
        "id": "Tu2i4B1X9Zj1",
        "outputId": "c6c8c44c-c309-4cce-d5af-0f9bb878c7d7"
      },
      "execution_count": 14,
      "outputs": [
        {
          "output_type": "stream",
          "name": "stdout",
          "text": [
            "enter the alphabetz\n",
            "alphabet is a consonant\n"
          ]
        }
      ]
    },
    {
      "cell_type": "markdown",
      "source": [
        ">program to check whether a given number by user is divisible by 2 and 3 both\n"
      ],
      "metadata": {
        "id": "0oCd818iB2VK"
      }
    },
    {
      "cell_type": "code",
      "source": [
        "num=float(input(\"enter a number\"))\n",
        "if num%2==0 and num%3==0:\n",
        "  print(\"number is divisible by 2 and 3\")\n",
        "else:\n",
        "  print(\"number is not divisible\")"
      ],
      "metadata": {
        "colab": {
          "base_uri": "https://localhost:8080/"
        },
        "id": "M0v9YUfSCKr8",
        "outputId": "e986278d-0f94-4721-bca1-bb4cf523ea0d"
      },
      "execution_count": 16,
      "outputs": [
        {
          "output_type": "stream",
          "name": "stdout",
          "text": [
            "enter a number80\n",
            "number is not divisible\n"
          ]
        }
      ]
    },
    {
      "cell_type": "markdown",
      "source": [
        ">a program to accept the cost price of bike as input and display the road tax to be paid according to following creteria:\n",
        " cost price-100000,tax-15%\n",
        " cost price-50000-100000,tax-10%\n",
        " cost price-less than 50000,tax-5%"
      ],
      "metadata": {
        "id": "a_16y2WwDpk0"
      }
    },
    {
      "cell_type": "code",
      "source": [
        "cp=int(input(\"enter price of bike\"))\n",
        "if cp>100000:\n",
        " tax=0.15*cp\n",
        " print(\"tax to be paid\",tax)\n",
        "elif cp>=50000 and cp<=100000:\n",
        " tax=0.1*cp\n",
        " print(\"tax to be paid\",tax)\n",
        "else:\n",
        "  tax=0.05*cp\n",
        "  print(\"tax to be paid\",tax)"
      ],
      "metadata": {
        "colab": {
          "base_uri": "https://localhost:8080/"
        },
        "id": "uOO2ycSHEYee",
        "outputId": "4eebff55-7e6d-4525-ed69-2851d798b500"
      },
      "execution_count": 32,
      "outputs": [
        {
          "output_type": "stream",
          "name": "stdout",
          "text": [
            "enter price of bike158900\n",
            "tax to be paid 23835.0\n"
          ]
        }
      ]
    },
    {
      "cell_type": "markdown",
      "source": [
        ">program to calculate the electricity bill by accepting the number of units consumed by the user as input.use the following price chart for ref:\n",
        " price of first 100 units-no charge\n",
        " price of next 100units-inr 5/- per unit\n",
        " after 200 units-inr 10/- per unit"
      ],
      "metadata": {
        "id": "Db4M1ULQHbed"
      }
    },
    {
      "cell_type": "code",
      "source": [
        "units=int(input(\"enter units consumed\"))\n",
        "if units<=100:\n",
        "  print(\"zero charges\")\n",
        "elif 100<=units<200:\n",
        "  amount=(units-100)*5\n",
        "  print(\"bill is\",amount)\n",
        "else:\n",
        "  amount=(units-200)*10\n",
        "  print(\"bill is\",amount)"
      ],
      "metadata": {
        "colab": {
          "base_uri": "https://localhost:8080/"
        },
        "id": "vCz2jhvcLIDd",
        "outputId": "ebb0c672-0d28-4e1e-9e9b-7b0b1e4f309f"
      },
      "execution_count": 58,
      "outputs": [
        {
          "output_type": "stream",
          "name": "stdout",
          "text": [
            "enter units consumed286\n",
            "bill is 860\n"
          ]
        }
      ]
    }
  ]
}