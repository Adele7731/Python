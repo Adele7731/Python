{
  "nbformat": 4,
  "nbformat_minor": 0,
  "metadata": {
    "colab": {
      "provenance": []
    },
    "kernelspec": {
      "name": "python3",
      "display_name": "Python 3"
    },
    "language_info": {
      "name": "python"
    }
  },
  "cells": [
    {
      "cell_type": "markdown",
      "source": [
        ">Write a program which accepts month's name as input and display the number of days in the month as output"
      ],
      "metadata": {
        "id": "POPuFMB2CjD4"
      }
    },
    {
      "cell_type": "code",
      "execution_count": 145,
      "metadata": {
        "colab": {
          "base_uri": "https://localhost:8080/"
        },
        "id": "rwnMXXkT5JNn",
        "outputId": "3fcc2da5-ee6a-4fdf-ef54-6eabf15e9214"
      },
      "outputs": [
        {
          "output_type": "stream",
          "name": "stdout",
          "text": [
            "enter the month nameseptember\n",
            "september has 30 days\n"
          ]
        }
      ],
      "source": [
        "month=input(\"enter the month name\")\n",
        "year=[\"january\",\"february\",\"march\",\"april\",\"may\",\"june\",\"july\",\"august\",\"september\",\"october\",\"november\",\"december\"]\n",
        "for i in year:\n",
        " if month==\"february\":\n",
        "  print(\"number of days in\",month,\"are 28/29\")\n",
        "  break\n",
        " elif month in(\"january\",\"march\",\"may\",\"july\",\"august\",\"october\",\"december\"):\n",
        "  print(\"number of days in\",month,\"are 31\")\n",
        "  break\n",
        " else:\n",
        "   print(month,\"has 30 days\")\n",
        "   break"
      ]
    },
    {
      "cell_type": "markdown",
      "source": [
        ">take any word as input from the user and count the number of vowels in the word"
      ],
      "metadata": {
        "id": "7_mi4YGZIuqK"
      }
    },
    {
      "cell_type": "code",
      "source": [
        "str1=input(\"enter the word\")\n",
        "a=0\n",
        "for i in str1:\n",
        "  if i in('a','A','e','E','i','I','o','O','u','U'):\n",
        "   a=a+1\n",
        "print(\"number of vowels in\",str1,\"are\",a)\n",
        "\n",
        "\n",
        "\n"
      ],
      "metadata": {
        "colab": {
          "base_uri": "https://localhost:8080/"
        },
        "id": "n4OirAoNF_Qe",
        "outputId": "dc4e6ae5-7029-43ab-eda1-f225b8d9ffe6"
      },
      "execution_count": 70,
      "outputs": [
        {
          "output_type": "stream",
          "name": "stdout",
          "text": [
            "enter the wordirreversable data doesnt exist\n",
            "number of vowels in irreversable data doesnt exist are 11\n"
          ]
        }
      ]
    },
    {
      "cell_type": "markdown",
      "source": [
        ">write a program to separate even and odd numbers in two distinct lists from a list of numbers of your choice"
      ],
      "metadata": {
        "id": "aJ3Rzy2IYANt"
      }
    },
    {
      "cell_type": "code",
      "source": [
        "a=[2,3,4,8,118,113,119,223,445,988,1199,5,11,17]\n",
        "even=0\n",
        "odd=0\n",
        "a_even=[ ]\n",
        "a_odd=[ ]\n",
        "for i in a:\n",
        "  if (i%2==0):\n",
        "    even=i\n",
        "    a_even.append(i)\n",
        "  else:\n",
        "    odd=i\n",
        "    a_odd.append(i)\n",
        "print(a_even)\n",
        "print(a_odd)"
      ],
      "metadata": {
        "colab": {
          "base_uri": "https://localhost:8080/"
        },
        "id": "dq-bXRevtXuW",
        "outputId": "f0ec4705-6f00-496d-a316-f0175ce2fa20"
      },
      "execution_count": 121,
      "outputs": [
        {
          "output_type": "stream",
          "name": "stdout",
          "text": [
            "[2, 4, 8, 118, 988]\n",
            "[3, 113, 119, 223, 445, 1199, 5, 11, 17]\n"
          ]
        }
      ]
    },
    {
      "cell_type": "markdown",
      "source": [
        ">write a program that appends datatype of elements from a list to a separate list"
      ],
      "metadata": {
        "id": "MMlKrvGRtCqL"
      }
    },
    {
      "cell_type": "code",
      "source": [
        "l1=['germany','romania','italy','newyork',True,[927,333,777,11],False,{1:'lee',9:'bob'},66]\n",
        "length=len(l1)\n",
        "dtype_l1=[]\n",
        "i=0\n",
        "for i in range(length):\n",
        "   dtype_l1.append(type(l1[i]))   #dtype_l1.append(element_type)\n",
        "print(dtype_l1)"
      ],
      "metadata": {
        "colab": {
          "base_uri": "https://localhost:8080/"
        },
        "id": "1T4DvM9_I-1a",
        "outputId": "f50fce69-1118-4cab-b960-c2f91c48ddc2"
      },
      "execution_count": 142,
      "outputs": [
        {
          "output_type": "stream",
          "name": "stdout",
          "text": [
            "[<class 'str'>, <class 'str'>, <class 'str'>, <class 'str'>, <class 'bool'>, <class 'list'>, <class 'bool'>, <class 'dict'>, <class 'int'>]\n"
          ]
        }
      ]
    },
    {
      "cell_type": "markdown",
      "source": [
        ">write a program to display only those numbers from a list that satisfies the following conditions:\n",
        "<1>the number must b divisible by 7\n",
        "\n",
        "<2>if the number is 140 then skip it and move to the next number in the list\n",
        "\n",
        "<3>if the number in the list is greater than 630 then stop the loop"
      ],
      "metadata": {
        "id": "N5sfjUpLyr9x"
      }
    },
    {
      "cell_type": "code",
      "source": [
        "for a in range(7,638):\n",
        " if a%7==0:\n",
        "     if a==140 or a>630:\n",
        "       continue\n",
        "     print(a)"
      ],
      "metadata": {
        "colab": {
          "base_uri": "https://localhost:8080/"
        },
        "id": "rKYSyTzM83cO",
        "outputId": "94cf4ddb-a5da-47ab-a893-6dd4ee7cce4b"
      },
      "execution_count": null,
      "outputs": [
        {
          "output_type": "stream",
          "name": "stdout",
          "text": [
            "7\n",
            "14\n",
            "21\n",
            "28\n",
            "35\n",
            "42\n",
            "49\n",
            "56\n",
            "63\n",
            "70\n",
            "77\n",
            "84\n",
            "91\n",
            "98\n",
            "105\n",
            "112\n",
            "119\n",
            "126\n",
            "133\n",
            "147\n",
            "154\n",
            "161\n",
            "168\n",
            "175\n",
            "182\n",
            "189\n",
            "196\n",
            "203\n",
            "210\n",
            "217\n",
            "224\n",
            "231\n",
            "238\n",
            "245\n",
            "252\n",
            "259\n",
            "266\n",
            "273\n",
            "280\n",
            "287\n",
            "294\n",
            "301\n",
            "308\n",
            "315\n",
            "322\n",
            "329\n",
            "336\n",
            "343\n",
            "350\n",
            "357\n",
            "364\n",
            "371\n",
            "378\n",
            "385\n",
            "392\n",
            "399\n",
            "406\n",
            "413\n",
            "420\n",
            "427\n",
            "434\n",
            "441\n",
            "448\n",
            "455\n",
            "462\n",
            "469\n",
            "476\n",
            "483\n",
            "490\n",
            "497\n",
            "504\n",
            "511\n",
            "518\n",
            "525\n",
            "532\n",
            "539\n",
            "546\n",
            "553\n",
            "560\n",
            "567\n",
            "574\n",
            "581\n",
            "588\n",
            "595\n",
            "602\n",
            "609\n",
            "616\n",
            "623\n",
            "630\n"
          ]
        }
      ]
    }
  ]
}